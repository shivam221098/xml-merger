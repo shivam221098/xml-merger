{
 "cells": [
  {
   "cell_type": "code",
   "execution_count": null,
   "metadata": {
    "collapsed": true,
    "pycharm": {
     "is_executing": true
    }
   },
   "outputs": [],
   "source": [
    "import pandas as pd\n",
    "import requests\n",
    "import numpy as np\n",
    "from bs4 import BeautifulSoup\n",
    "import re"
   ]
  },
  {
   "cell_type": "code",
   "execution_count": null,
   "outputs": [],
   "source": [
    "def get_director_genre_production(link):\n",
    "    dict_data = {}\n",
    "\n",
    "    global session\n",
    "    content = session.get(link)\n",
    "\n",
    "    table_soup = BeautifulSoup(content.content, \"html.parser\")\n",
    "\n",
    "    tables = table_soup.find(\"div\", attrs={\"id\": \"summary\"})\n",
    "    print(link)\n",
    "    rows = (tables.find_all(\"table\"))\n",
    "    director_name = None\n",
    "    try:\n",
    "        try:\n",
    "            cast_crew = link.replace(\"=summary\", \"=cast-and-crew\")\n",
    "            cast_tables = session.get(cast_crew)\n",
    "\n",
    "            cast_soup = BeautifulSoup(cast_tables.content, \"html.parser\")\n",
    "\n",
    "            cast_div = cast_soup.find_all(\"div\", {\"class\": \"cast_new\"})\n",
    "            cast_table = cast_div[2].find(\"table\")\n",
    "            director = cast_table.find_all(\"tr\")[0].text.split(\"\\n\")\n",
    "            index = director.index(\"Director\")\n",
    "            director_name = director[index - 2]\n",
    "        except ValueError:\n",
    "            director_name = None\n",
    "\n",
    "        for tr in rows[4].find_all(\"tr\"):\n",
    "            td = tr.text.split(\"\\n\")\n",
    "            if any([\"Genre\" in data for data in td]):\n",
    "                dict_data[\"Genre\"] = \" \".join(td).split(\":\")[-1]\n",
    "            elif any([\"Production Companies\" in data for data in td]):\n",
    "                dict_data[\"Production Company\"] = \" \".join(td).split(\":\")[-1]\n",
    "    except IndexError:\n",
    "        return {\n",
    "            \"Production Company\": None,\n",
    "            \"Genre\": None,\n",
    "            \"Movie name\": get_movie_name(link),\n",
    "            \"Director name\": director_name\n",
    "        }\n",
    "\n",
    "        # elif any([\"\"])\n",
    "    dict_data.update({\"Movie name\": get_movie_name(link)})\n",
    "    dict_data.update({\"Director name\": director_name})\n",
    "    return dict_data\n"
   ],
   "metadata": {
    "collapsed": false,
    "pycharm": {
     "name": "#%%\n",
     "is_executing": true
    }
   }
  },
  {
   "cell_type": "code",
   "execution_count": null,
   "outputs": [],
   "source": [
    "def get_movie_name(link):\n",
    "    pattern = re.compile(\"/[A-Za-z0-9-()]+#\")\n",
    "    print(link)\n",
    "    x = re.search(pattern, link)\n",
    "    if x is not None:\n",
    "        start = x.start() + 1\n",
    "        stop = x.end() - 1\n",
    "\n",
    "        return link[start:stop]"
   ],
   "metadata": {
    "collapsed": false,
    "pycharm": {
     "name": "#%%\n",
     "is_executing": true
    }
   }
  },
  {
   "cell_type": "code",
   "execution_count": null,
   "outputs": [],
   "source": [
    "import concurrent.futures\n",
    "def process_parallel(links):\n",
    "    with concurrent.futures.ThreadPoolExecutor() as executor:\n",
    "        data = executor.map(get_director_genre_production, links)\n",
    "\n",
    "    return data"
   ],
   "metadata": {
    "collapsed": false,
    "pycharm": {
     "name": "#%%\n",
     "is_executing": true
    }
   }
  },
  {
   "cell_type": "code",
   "execution_count": null,
   "outputs": [],
   "source": [
    "url_range = list(range(101, 1000, 100))\n",
    "# print(url_range)\n",
    "REQUIRED_ROWS = 100\n",
    "\n",
    "session = requests.Session()\n",
    "# print(soup)\n",
    "\n",
    "dataframes = []\n",
    "count = 1\n",
    "hrefs = []\n",
    "genre_director_company = []\n",
    "\n",
    "while count < REQUIRED_ROWS:\n",
    "    links = []\n",
    "    url = 'https://www.the-numbers.com/box-office-records/worldwide/all-movies/cumulative/all-time/' + str(count)\n",
    "    print(url)\n",
    "\n",
    "    response = session.get(url)\n",
    "    soup = BeautifulSoup(response.content, 'html.parser')\n",
    "\n",
    "    for item in soup.find_all('tr'):\n",
    "        link = item.find_all('a')\n",
    "        links.append(link)\n",
    "\n",
    "        if len(link) > 1:\n",
    "            hrefs.append(\"https://www.the-numbers.com\" + link[-1][\"href\"])\n",
    "\n",
    "    list_check = []\n",
    "    for tr in soup.find_all('tr'):\n",
    "        list_check.append(tr.get_text().split('\\n'))\n",
    "\n",
    "    array = np.array(list_check)\n",
    "    array = array.reshape(101, 8)\n",
    "    # print(np.size(array))\n",
    "\n",
    "    df = pd.DataFrame(array, index=array[:, 1])\n",
    "    new_header = df.iloc[0]\n",
    "    df = df[1:]\n",
    "    df.columns = new_header\n",
    "    df.columns = (\n",
    "        ['Rank', 'Rank', 'Year', 'Movie', 'WorldwideBox_Office', 'DomesticBox_Office', 'InternationalBox_Office',\n",
    "         'Extra'])\n",
    "    dataframes.append(df)\n",
    "    # print(len(df))\n",
    "\n",
    "    count += 100\n",
    "\n",
    "# print(links[1][1])\n",
    "new_df = pd.concat(dataframes)\n",
    "new_df.to_csv(\"test_data.csv\", index=False)\n",
    "\n",
    "genre_director_company = process_parallel(hrefs)\n",
    "other_details_df = pd.DataFrame(genre_director_company)\n",
    "other_details_df.to_csv(\"director_genre_company.csv\")\n"
   ],
   "metadata": {
    "collapsed": false,
    "pycharm": {
     "name": "#%%\n",
     "is_executing": true
    }
   }
  },
  {
   "cell_type": "code",
   "execution_count": null,
   "outputs": [],
   "source": [],
   "metadata": {
    "collapsed": false,
    "pycharm": {
     "name": "#%%\n"
    }
   }
  }
 ],
 "metadata": {
  "kernelspec": {
   "display_name": "Python 3",
   "language": "python",
   "name": "python3"
  },
  "language_info": {
   "codemirror_mode": {
    "name": "ipython",
    "version": 2
   },
   "file_extension": ".py",
   "mimetype": "text/x-python",
   "name": "python",
   "nbconvert_exporter": "python",
   "pygments_lexer": "ipython2",
   "version": "2.7.6"
  }
 },
 "nbformat": 4,
 "nbformat_minor": 0
}